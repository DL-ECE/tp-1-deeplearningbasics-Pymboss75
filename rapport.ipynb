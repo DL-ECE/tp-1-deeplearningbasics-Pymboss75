{
  "nbformat": 4,
  "nbformat_minor": 0,
  "metadata": {
    "kernelspec": {
      "display_name": "Python 3",
      "language": "python",
      "name": "python3"
    },
    "language_info": {
      "codemirror_mode": {
        "name": "ipython",
        "version": 3
      },
      "file_extension": ".py",
      "mimetype": "text/x-python",
      "name": "python",
      "nbconvert_exporter": "python",
      "pygments_lexer": "ipython3",
      "version": "3.6.9-final"
    },
    "colab": {
      "name": "rapport.ipynb",
      "provenance": []
    }
  },
  "cells": [
    {
      "cell_type": "markdown",
      "metadata": {
        "id": "DxU0j-tUFIFs"
      },
      "source": [
        "# TP-1 DLBasics\n",
        "\n",
        "## Digit classification using the MNIST dataset\n",
        "\n",
        "In this notebook you will train your first neural network. Feel free to look back at the Lecture-1 slides to complete the cells below. "
      ]
    },
    {
      "cell_type": "markdown",
      "metadata": {
        "id": "SxqSdCzwFIFt"
      },
      "source": [
        "#### Install dependencies freeze by poetry \n"
      ]
    },
    {
      "cell_type": "code",
      "metadata": {
        "id": "UQBhfkGNFIFt",
        "outputId": "3758da9f-35a9-48b0-8bd3-712e0ef9013b",
        "colab": {
          "base_uri": "https://localhost:8080/"
        }
      },
      "source": [
        "!python3 -m pip install --upgrade pip\n",
        "!python3 -m pip install matplotlib numpy scikit-learn==0.23.2\n"
      ],
      "execution_count": 1,
      "outputs": [
        {
          "output_type": "stream",
          "text": [
            "Collecting pip\n",
            "\u001b[?25l  Downloading https://files.pythonhosted.org/packages/cb/28/91f26bd088ce8e22169032100d4260614fc3da435025ff389ef1d396a433/pip-20.2.4-py2.py3-none-any.whl (1.5MB)\n",
            "\r\u001b[K     |▏                               | 10kB 17.0MB/s eta 0:00:01\r\u001b[K     |▍                               | 20kB 3.3MB/s eta 0:00:01\r\u001b[K     |▋                               | 30kB 4.4MB/s eta 0:00:01\r\u001b[K     |▉                               | 40kB 4.7MB/s eta 0:00:01\r\u001b[K     |█                               | 51kB 3.9MB/s eta 0:00:01\r\u001b[K     |█▎                              | 61kB 4.2MB/s eta 0:00:01\r\u001b[K     |█▌                              | 71kB 4.6MB/s eta 0:00:01\r\u001b[K     |█▊                              | 81kB 5.0MB/s eta 0:00:01\r\u001b[K     |██                              | 92kB 5.1MB/s eta 0:00:01\r\u001b[K     |██▏                             | 102kB 5.3MB/s eta 0:00:01\r\u001b[K     |██▍                             | 112kB 5.3MB/s eta 0:00:01\r\u001b[K     |██▋                             | 122kB 5.3MB/s eta 0:00:01\r\u001b[K     |██▉                             | 133kB 5.3MB/s eta 0:00:01\r\u001b[K     |███                             | 143kB 5.3MB/s eta 0:00:01\r\u001b[K     |███▎                            | 153kB 5.3MB/s eta 0:00:01\r\u001b[K     |███▌                            | 163kB 5.3MB/s eta 0:00:01\r\u001b[K     |███▊                            | 174kB 5.3MB/s eta 0:00:01\r\u001b[K     |████                            | 184kB 5.3MB/s eta 0:00:01\r\u001b[K     |████▏                           | 194kB 5.3MB/s eta 0:00:01\r\u001b[K     |████▍                           | 204kB 5.3MB/s eta 0:00:01\r\u001b[K     |████▋                           | 215kB 5.3MB/s eta 0:00:01\r\u001b[K     |████▉                           | 225kB 5.3MB/s eta 0:00:01\r\u001b[K     |█████                           | 235kB 5.3MB/s eta 0:00:01\r\u001b[K     |█████▎                          | 245kB 5.3MB/s eta 0:00:01\r\u001b[K     |█████▍                          | 256kB 5.3MB/s eta 0:00:01\r\u001b[K     |█████▋                          | 266kB 5.3MB/s eta 0:00:01\r\u001b[K     |█████▉                          | 276kB 5.3MB/s eta 0:00:01\r\u001b[K     |██████                          | 286kB 5.3MB/s eta 0:00:01\r\u001b[K     |██████▎                         | 296kB 5.3MB/s eta 0:00:01\r\u001b[K     |██████▌                         | 307kB 5.3MB/s eta 0:00:01\r\u001b[K     |██████▊                         | 317kB 5.3MB/s eta 0:00:01\r\u001b[K     |███████                         | 327kB 5.3MB/s eta 0:00:01\r\u001b[K     |███████▏                        | 337kB 5.3MB/s eta 0:00:01\r\u001b[K     |███████▍                        | 348kB 5.3MB/s eta 0:00:01\r\u001b[K     |███████▋                        | 358kB 5.3MB/s eta 0:00:01\r\u001b[K     |███████▉                        | 368kB 5.3MB/s eta 0:00:01\r\u001b[K     |████████                        | 378kB 5.3MB/s eta 0:00:01\r\u001b[K     |████████▎                       | 389kB 5.3MB/s eta 0:00:01\r\u001b[K     |████████▌                       | 399kB 5.3MB/s eta 0:00:01\r\u001b[K     |████████▊                       | 409kB 5.3MB/s eta 0:00:01\r\u001b[K     |█████████                       | 419kB 5.3MB/s eta 0:00:01\r\u001b[K     |█████████▏                      | 430kB 5.3MB/s eta 0:00:01\r\u001b[K     |█████████▍                      | 440kB 5.3MB/s eta 0:00:01\r\u001b[K     |█████████▋                      | 450kB 5.3MB/s eta 0:00:01\r\u001b[K     |█████████▉                      | 460kB 5.3MB/s eta 0:00:01\r\u001b[K     |██████████                      | 471kB 5.3MB/s eta 0:00:01\r\u001b[K     |██████████▎                     | 481kB 5.3MB/s eta 0:00:01\r\u001b[K     |██████████▌                     | 491kB 5.3MB/s eta 0:00:01\r\u001b[K     |██████████▊                     | 501kB 5.3MB/s eta 0:00:01\r\u001b[K     |██████████▉                     | 512kB 5.3MB/s eta 0:00:01\r\u001b[K     |███████████                     | 522kB 5.3MB/s eta 0:00:01\r\u001b[K     |███████████▎                    | 532kB 5.3MB/s eta 0:00:01\r\u001b[K     |███████████▌                    | 542kB 5.3MB/s eta 0:00:01\r\u001b[K     |███████████▊                    | 552kB 5.3MB/s eta 0:00:01\r\u001b[K     |████████████                    | 563kB 5.3MB/s eta 0:00:01\r\u001b[K     |████████████▏                   | 573kB 5.3MB/s eta 0:00:01\r\u001b[K     |████████████▍                   | 583kB 5.3MB/s eta 0:00:01\r\u001b[K     |████████████▋                   | 593kB 5.3MB/s eta 0:00:01\r\u001b[K     |████████████▉                   | 604kB 5.3MB/s eta 0:00:01\r\u001b[K     |█████████████                   | 614kB 5.3MB/s eta 0:00:01\r\u001b[K     |█████████████▎                  | 624kB 5.3MB/s eta 0:00:01\r\u001b[K     |█████████████▌                  | 634kB 5.3MB/s eta 0:00:01\r\u001b[K     |█████████████▊                  | 645kB 5.3MB/s eta 0:00:01\r\u001b[K     |██████████████                  | 655kB 5.3MB/s eta 0:00:01\r\u001b[K     |██████████████▏                 | 665kB 5.3MB/s eta 0:00:01\r\u001b[K     |██████████████▍                 | 675kB 5.3MB/s eta 0:00:01\r\u001b[K     |██████████████▋                 | 686kB 5.3MB/s eta 0:00:01\r\u001b[K     |██████████████▉                 | 696kB 5.3MB/s eta 0:00:01\r\u001b[K     |███████████████                 | 706kB 5.3MB/s eta 0:00:01\r\u001b[K     |███████████████▎                | 716kB 5.3MB/s eta 0:00:01\r\u001b[K     |███████████████▌                | 727kB 5.3MB/s eta 0:00:01\r\u001b[K     |███████████████▊                | 737kB 5.3MB/s eta 0:00:01\r\u001b[K     |████████████████                | 747kB 5.3MB/s eta 0:00:01\r\u001b[K     |████████████████▏               | 757kB 5.3MB/s eta 0:00:01\r\u001b[K     |████████████████▎               | 768kB 5.3MB/s eta 0:00:01\r\u001b[K     |████████████████▌               | 778kB 5.3MB/s eta 0:00:01\r\u001b[K     |████████████████▊               | 788kB 5.3MB/s eta 0:00:01\r\u001b[K     |█████████████████               | 798kB 5.3MB/s eta 0:00:01\r\u001b[K     |█████████████████▏              | 808kB 5.3MB/s eta 0:00:01\r\u001b[K     |█████████████████▍              | 819kB 5.3MB/s eta 0:00:01\r\u001b[K     |█████████████████▋              | 829kB 5.3MB/s eta 0:00:01\r\u001b[K     |█████████████████▉              | 839kB 5.3MB/s eta 0:00:01\r\u001b[K     |██████████████████              | 849kB 5.3MB/s eta 0:00:01\r\u001b[K     |██████████████████▎             | 860kB 5.3MB/s eta 0:00:01\r\u001b[K     |██████████████████▌             | 870kB 5.3MB/s eta 0:00:01\r\u001b[K     |██████████████████▊             | 880kB 5.3MB/s eta 0:00:01\r\u001b[K     |███████████████████             | 890kB 5.3MB/s eta 0:00:01\r\u001b[K     |███████████████████▏            | 901kB 5.3MB/s eta 0:00:01\r\u001b[K     |███████████████████▍            | 911kB 5.3MB/s eta 0:00:01\r\u001b[K     |███████████████████▋            | 921kB 5.3MB/s eta 0:00:01\r\u001b[K     |███████████████████▉            | 931kB 5.3MB/s eta 0:00:01\r\u001b[K     |████████████████████            | 942kB 5.3MB/s eta 0:00:01\r\u001b[K     |████████████████████▎           | 952kB 5.3MB/s eta 0:00:01\r\u001b[K     |████████████████████▌           | 962kB 5.3MB/s eta 0:00:01\r\u001b[K     |████████████████████▊           | 972kB 5.3MB/s eta 0:00:01\r\u001b[K     |█████████████████████           | 983kB 5.3MB/s eta 0:00:01\r\u001b[K     |█████████████████████▏          | 993kB 5.3MB/s eta 0:00:01\r\u001b[K     |█████████████████████▍          | 1.0MB 5.3MB/s eta 0:00:01\r\u001b[K     |█████████████████████▋          | 1.0MB 5.3MB/s eta 0:00:01\r\u001b[K     |█████████████████████▊          | 1.0MB 5.3MB/s eta 0:00:01\r\u001b[K     |██████████████████████          | 1.0MB 5.3MB/s eta 0:00:01\r\u001b[K     |██████████████████████▏         | 1.0MB 5.3MB/s eta 0:00:01\r\u001b[K     |██████████████████████▍         | 1.1MB 5.3MB/s eta 0:00:01\r\u001b[K     |██████████████████████▋         | 1.1MB 5.3MB/s eta 0:00:01\r\u001b[K     |██████████████████████▉         | 1.1MB 5.3MB/s eta 0:00:01\r\u001b[K     |███████████████████████         | 1.1MB 5.3MB/s eta 0:00:01\r\u001b[K     |███████████████████████▎        | 1.1MB 5.3MB/s eta 0:00:01\r\u001b[K     |███████████████████████▌        | 1.1MB 5.3MB/s eta 0:00:01\r\u001b[K     |███████████████████████▊        | 1.1MB 5.3MB/s eta 0:00:01\r\u001b[K     |████████████████████████        | 1.1MB 5.3MB/s eta 0:00:01\r\u001b[K     |████████████████████████▏       | 1.1MB 5.3MB/s eta 0:00:01\r\u001b[K     |████████████████████████▍       | 1.1MB 5.3MB/s eta 0:00:01\r\u001b[K     |████████████████████████▋       | 1.2MB 5.3MB/s eta 0:00:01\r\u001b[K     |████████████████████████▉       | 1.2MB 5.3MB/s eta 0:00:01\r\u001b[K     |█████████████████████████       | 1.2MB 5.3MB/s eta 0:00:01\r\u001b[K     |█████████████████████████▎      | 1.2MB 5.3MB/s eta 0:00:01\r\u001b[K     |█████████████████████████▌      | 1.2MB 5.3MB/s eta 0:00:01\r\u001b[K     |█████████████████████████▊      | 1.2MB 5.3MB/s eta 0:00:01\r\u001b[K     |██████████████████████████      | 1.2MB 5.3MB/s eta 0:00:01\r\u001b[K     |██████████████████████████▏     | 1.2MB 5.3MB/s eta 0:00:01\r\u001b[K     |██████████████████████████▍     | 1.2MB 5.3MB/s eta 0:00:01\r\u001b[K     |██████████████████████████▋     | 1.2MB 5.3MB/s eta 0:00:01\r\u001b[K     |██████████████████████████▉     | 1.3MB 5.3MB/s eta 0:00:01\r\u001b[K     |███████████████████████████     | 1.3MB 5.3MB/s eta 0:00:01\r\u001b[K     |███████████████████████████▏    | 1.3MB 5.3MB/s eta 0:00:01\r\u001b[K     |███████████████████████████▍    | 1.3MB 5.3MB/s eta 0:00:01\r\u001b[K     |███████████████████████████▋    | 1.3MB 5.3MB/s eta 0:00:01\r\u001b[K     |███████████████████████████▉    | 1.3MB 5.3MB/s eta 0:00:01\r\u001b[K     |████████████████████████████    | 1.3MB 5.3MB/s eta 0:00:01\r\u001b[K     |████████████████████████████▎   | 1.3MB 5.3MB/s eta 0:00:01\r\u001b[K     |████████████████████████████▌   | 1.3MB 5.3MB/s eta 0:00:01\r\u001b[K     |████████████████████████████▊   | 1.4MB 5.3MB/s eta 0:00:01\r\u001b[K     |█████████████████████████████   | 1.4MB 5.3MB/s eta 0:00:01\r\u001b[K     |█████████████████████████████▏  | 1.4MB 5.3MB/s eta 0:00:01\r\u001b[K     |█████████████████████████████▍  | 1.4MB 5.3MB/s eta 0:00:01\r\u001b[K     |█████████████████████████████▋  | 1.4MB 5.3MB/s eta 0:00:01\r\u001b[K     |█████████████████████████████▉  | 1.4MB 5.3MB/s eta 0:00:01\r\u001b[K     |██████████████████████████████  | 1.4MB 5.3MB/s eta 0:00:01\r\u001b[K     |██████████████████████████████▎ | 1.4MB 5.3MB/s eta 0:00:01\r\u001b[K     |██████████████████████████████▌ | 1.4MB 5.3MB/s eta 0:00:01\r\u001b[K     |██████████████████████████████▊ | 1.4MB 5.3MB/s eta 0:00:01\r\u001b[K     |███████████████████████████████ | 1.5MB 5.3MB/s eta 0:00:01\r\u001b[K     |███████████████████████████████▏| 1.5MB 5.3MB/s eta 0:00:01\r\u001b[K     |███████████████████████████████▍| 1.5MB 5.3MB/s eta 0:00:01\r\u001b[K     |███████████████████████████████▋| 1.5MB 5.3MB/s eta 0:00:01\r\u001b[K     |███████████████████████████████▉| 1.5MB 5.3MB/s eta 0:00:01\r\u001b[K     |████████████████████████████████| 1.5MB 5.3MB/s \n",
            "\u001b[?25hInstalling collected packages: pip\n",
            "  Found existing installation: pip 19.3.1\n",
            "    Uninstalling pip-19.3.1:\n",
            "      Successfully uninstalled pip-19.3.1\n",
            "Successfully installed pip-20.2.4\n",
            "Requirement already satisfied: matplotlib in /usr/local/lib/python3.6/dist-packages (3.2.2)\n",
            "Requirement already satisfied: numpy in /usr/local/lib/python3.6/dist-packages (1.18.5)\n",
            "Collecting scikit-learn==0.23.2\n",
            "  Downloading scikit_learn-0.23.2-cp36-cp36m-manylinux1_x86_64.whl (6.8 MB)\n",
            "\u001b[K     |████████████████████████████████| 6.8 MB 4.5 MB/s \n",
            "\u001b[?25hRequirement already satisfied: cycler>=0.10 in /usr/local/lib/python3.6/dist-packages (from matplotlib) (0.10.0)\n",
            "Requirement already satisfied: python-dateutil>=2.1 in /usr/local/lib/python3.6/dist-packages (from matplotlib) (2.8.1)\n",
            "Requirement already satisfied: kiwisolver>=1.0.1 in /usr/local/lib/python3.6/dist-packages (from matplotlib) (1.2.0)\n",
            "Requirement already satisfied: pyparsing!=2.0.4,!=2.1.2,!=2.1.6,>=2.0.1 in /usr/local/lib/python3.6/dist-packages (from matplotlib) (2.4.7)\n",
            "Requirement already satisfied: scipy>=0.19.1 in /usr/local/lib/python3.6/dist-packages (from scikit-learn==0.23.2) (1.4.1)\n",
            "Requirement already satisfied: joblib>=0.11 in /usr/local/lib/python3.6/dist-packages (from scikit-learn==0.23.2) (0.17.0)\n",
            "Collecting threadpoolctl>=2.0.0\n",
            "  Downloading threadpoolctl-2.1.0-py3-none-any.whl (12 kB)\n",
            "Requirement already satisfied: six in /usr/local/lib/python3.6/dist-packages (from cycler>=0.10->matplotlib) (1.15.0)\n",
            "Installing collected packages: threadpoolctl, scikit-learn\n",
            "  Attempting uninstall: scikit-learn\n",
            "    Found existing installation: scikit-learn 0.22.2.post1\n",
            "    Uninstalling scikit-learn-0.22.2.post1:\n",
            "      Successfully uninstalled scikit-learn-0.22.2.post1\n",
            "Successfully installed scikit-learn-0.23.2 threadpoolctl-2.1.0\n"
          ],
          "name": "stdout"
        }
      ]
    },
    {
      "cell_type": "markdown",
      "metadata": {
        "id": "U1txleKeFIFx"
      },
      "source": [
        "#### Import the different module we will need in this notebook \n",
        "\n",
        "All the dependencies are installed. Below we import them and will be using them in all our notebooks.\n",
        "\n",
        "Please feel free to look arround and look at their API. \n",
        "\n",
        "The student should be limited to these imports to complete this work.\n"
      ]
    },
    {
      "cell_type": "code",
      "metadata": {
        "id": "l-ViDnEXFIFy"
      },
      "source": [
        "# We import some python standard librairy utility function \n",
        "# see the [python doc](https://docs.python.org/3.6/library/functools.html?highlight=func#module-functools) for more info \n",
        "from functools import reduce \n",
        "import random \n",
        "\n",
        "# To create some plot and figures: matplolib [matplotlib doc](https://matplotlib.org/)\n",
        "# To do compute on matrix and vectors: [numpy doc](https://numpy.org/)\n",
        "# To do some classical Machine Learning: [sklearn doc](https://scikit-learn.org/stable/index.html)\n",
        "import matplotlib.pyplot as plt\n",
        "import numpy as np\n",
        "from sklearn.datasets import fetch_openml\n",
        "from sklearn.model_selection import train_test_split"
      ],
      "execution_count": 2,
      "outputs": []
    },
    {
      "cell_type": "code",
      "metadata": {
        "id": "ZIrrQcCDFIF1"
      },
      "source": [
        "# In order to have some reproducable results and easier debugging \n",
        "# we fix the seed of random.\n",
        "random.seed(1342)\n",
        "np.random.seed(1342)"
      ],
      "execution_count": 3,
      "outputs": []
    },
    {
      "cell_type": "markdown",
      "metadata": {
        "id": "gib1E53lFIF4"
      },
      "source": [
        "## Data preparation (3 pts)\n",
        "\n",
        "As seen in the lecture one of the earlier use case for deep learning was digit recognition. \n",
        "\n",
        "The dataset we will use today is the MNISTdataset http://yann.lecun.com/exdb/mnist/. \n",
        "\n",
        "One image will be represented a vector (a 28x28 image will be represented as vector with 784 entries).\n",
        "\n",
        "Thus, we will end up with a n_examples x 784 matrix to represent the images in the dataset.\n"
      ]
    },
    {
      "cell_type": "code",
      "metadata": {
        "id": "0zGYiCw4FIF4"
      },
      "source": [
        "mnist_data, mnist_target = fetch_openml('mnist_784', version=1, return_X_y=True)"
      ],
      "execution_count": 4,
      "outputs": []
    },
    {
      "cell_type": "code",
      "metadata": {
        "id": "jNycoqi7FIF7"
      },
      "source": [
        "# Let's warmup and answer this first question\n",
        "# Replace the None with you answer.\n",
        "\n",
        "# How many image are in this dataset ? \n",
        "def data_length(dataset: np.array, target: np.array):\n",
        "    \"\"\"Function to compute the length of the dataset and the length of the target labels.\"\"\"\n",
        "    dataset_length = dataset.shape[0]\n",
        "    target_length = target.shape[0]\n",
        "    return dataset_length, target_length"
      ],
      "execution_count": 5,
      "outputs": []
    },
    {
      "cell_type": "code",
      "metadata": {
        "id": "m23YVWvUFIF-",
        "outputId": "4ba33472-afa9-485e-dcfe-883a7ce3f31a",
        "colab": {
          "base_uri": "https://localhost:8080/",
          "height": 281
        }
      },
      "source": [
        "# Let's look at on image from this dataset \n",
        "def plot_one_image(dataset: np.array, target: np.array, image_index: int):\n",
        "    \"\"\"Function to plot the image at the given index.\"\"\"\n",
        "    image = dataset[image_index].reshape(28,28)\n",
        "    target = target[image_index]\n",
        "    plt.imshow(image, cmap='gray')\n",
        "    plt.title(f\"This is a {target}\")\n",
        "\n",
        "\n",
        "plot_one_image(mnist_data, mnist_target,1)"
      ],
      "execution_count": 6,
      "outputs": [
        {
          "output_type": "display_data",
          "data": {
            "image/png": "[encoded data removed]",
            "text/plain": [
              "<Figure size 432x288 with 1 Axes>"
            ]
          },
          "metadata": {
            "tags": [],
            "needs_background": "light"
          }
        }
      ]
    },
    {
      "cell_type": "code",
      "metadata": {
        "id": "TDdKhg-NFIGB"
      },
      "source": [
        "\n",
        "# In a similar fashion to classical machine learning, we will create a test split to known if the neural network is learning well.\n",
        "\n",
        "X_train, X_test, y_train, y_test = train_test_split(mnist_data, mnist_target, test_size=0.33, random_state=1342)\n",
        "\n",
        "# You the 2 function below to check if they are working properly on this divided dataset.\n",
        "\n",
        "X_train_length, y_train_length = data_length(X_train, y_train)\n",
        "X_test_length, y_test_length = data_length(X_test, y_test)\n",
        "\n",
        "assert X_train_length == y_train_length and X_train_length == 46900\n",
        "assert X_test_length == y_test_length and X_test_length == 23100"
      ],
      "execution_count": 7,
      "outputs": []
    },
    {
      "cell_type": "code",
      "metadata": {
        "id": "_ORMV_VTFIGD",
        "outputId": "b7ed963b-5bc1-49d8-8463-80a8d06c45c6",
        "colab": {
          "base_uri": "https://localhost:8080/",
          "height": 281
        }
      },
      "source": [
        "plot_one_image(X_train, y_train , 120)"
      ],
      "execution_count": null,
      "outputs": [
        {
          "output_type": "display_data",
          "data": {
            "image/png": "[encoded data removed]",
            "text/plain": [
              "<Figure size 432x288 with 1 Axes>"
            ]
          },
          "metadata": {
            "tags": [],
            "needs_background": "light"
          }
        }
      ]
    },
    {
      "cell_type": "code",
      "metadata": {
        "id": "cqr8T06YFIGH",
        "outputId": "c622eab0-c495-4c15-8f1a-891a9d49d04b",
        "colab": {
          "base_uri": "https://localhost:8080/",
          "height": 281
        }
      },
      "source": [
        "plot_one_image(X_test, y_test , 250)"
      ],
      "execution_count": null,
      "outputs": [
        {
          "output_type": "display_data",
          "data": {
            "image/png": "[encoded data removed]",
            "text/plain": [
              "<Figure size 432x288 with 1 Axes>"
            ]
          },
          "metadata": {
            "tags": [],
            "needs_background": "light"
          }
        }
      ]
    },
    {
      "cell_type": "code",
      "metadata": {
        "id": "4wK-66fhFIGJ"
      },
      "source": [
        "# It's important to normalize the data before feeding it into the neural network\n",
        "def normalize_data(dataset: np.array) -> np.array:\n",
        "    return dataset/255"
      ],
      "execution_count": 8,
      "outputs": []
    },
    {
      "cell_type": "markdown",
      "metadata": {
        "id": "ZojZN1kIFIGL"
      },
      "source": [
        "It's also important to find a good representation of the target.\n",
        "\n",
        "In this notebook it will be one-hot vector. \n",
        "\n",
        "Complete the below function to turn the target vector into a one-hot matrix.\n",
        "\n",
        "For example, a `[0,1,9]` vector will become the following matrix:\n",
        "\n",
        "`[[1,0,0,0,0,0,0,0,0,0],\n",
        "  [0,1,0,0,0,0,0,0,0,0],\n",
        "  [0,0,0,0,0,0,0,0,0,1]]`\n",
        "\n"
      ]
    },
    {
      "cell_type": "code",
      "metadata": {
        "id": "2NaJAnwJFIGM"
      },
      "source": [
        "def target_to_one_hot(target: np.array) -> np.array:\n",
        "\n",
        "    target = target.astype(int)\n",
        "    one_hot_matrix = np.zeros([target.shape[0],10])\n",
        "    one_hot_matrix[np.arrange(len(target)), target] = 1\n",
        "  \n",
        "    return one_hot_matrix"
      ],
      "execution_count": 10,
      "outputs": []
    },
    {
      "cell_type": "markdown",
      "metadata": {
        "id": "tZkqyNsVFIGQ"
      },
      "source": [
        "## Useful functions (3 pts)\n",
        "\n",
        "Implement the sigmoid function, its derivative and the softmax function:"
      ]
    },
    {
      "cell_type": "code",
      "metadata": {
        "id": "AaSKmVaIFIGR"
      },
      "source": [
        "def sigmoid(M: np.array) -> np.array:\n",
        "    \"\"\"Apply a sigmoid to the input array\"\"\"\n",
        "    M_sigmoid = 1/(1 + np.exp(-M))\n",
        "    return M_sigmoid"
      ],
      "execution_count": 16,
      "outputs": []
    },
    {
      "cell_type": "code",
      "metadata": {
        "id": "SRRc3UsDFIGV"
      },
      "source": [
        "def d_sigmoid(M: np.array)-> np.array:\n",
        "    \"\"\"Compute the derivative of the sigmoid\"\"\" \n",
        "    M_dsigmoid = sigmoid(M) * (1 - sigmoid(M))   \n",
        "    return M_dsigmoid"
      ],
      "execution_count": 15,
      "outputs": []
    },
    {
      "cell_type": "code",
      "metadata": {
        "id": "HzUC2QTcFIGZ",
        "outputId": "17ef732f-67de-49ba-8c8b-58a2be045372",
        "colab": {
          "base_uri": "https://localhost:8080/"
        }
      },
      "source": [
        "def softmax(X: np.array)-> np.array:\n",
        "    \"\"\"Apply a softmax to the input array\"\"\"\n",
        "    X_exp = np.exp(X)\n",
        "    X_sum = np.sum(X_exp, axis=1).reshape(-1,1)\n",
        "    X_softmax = X_exp/X_sum\n",
        "    return X_softmax"
      ],
      "execution_count": 20,
      "outputs": [
        {
          "output_type": "execute_result",
          "data": {
            "text/plain": [
              "array([[4.20100661e-02, 1.14195199e-01, 8.43794734e-01],\n",
              "       [2.47231880e-03, 1.23089505e-04, 9.97404592e-01]])"
            ]
          },
          "metadata": {
            "tags": []
          },
          "execution_count": 20
        }
      ]
    },
    {
      "cell_type": "markdown",
      "metadata": {
        "id": "rabjGcgaFIGc"
      },
      "source": [
        "## Feed forward NN\n",
        "\n",
        "Now that the data is prepared it's time to create a neural network to learn on this dataset.\n",
        "\n",
        "You can look back at the lecture slides and need to replace the None in the below function in order to have the building blocks of this first neural network. \n",
        "\n",
        "To do so we are now going to create the FFNN class. It will take list of integers to represent the network.\n",
        "\n",
        "One element in the list corresponds to the number of neurones in the layer.\n",
        "`config = [784, 3, 4, 10]` will be an acceptable config: \n",
        "- inputs are 1x784 vectors \n",
        "- the model output should be a vector of size 10 to classify between 10 classes.\n",
        "- in the middle the hidden layer are fully customizable\n",
        "\n",
        "You have to do some implementations and replace the None assignment (variable = None). Do not do it for the Layer object.\n",
        "\n",
        "Warning: None return type for some methods are not supposed to be affected"
      ]
    },
    {
      "cell_type": "code",
      "metadata": {
        "id": "kK4Q_u0NFIGc"
      },
      "source": [
        "class Layer:\n",
        "    def __init__(self):\n",
        "        self.Z = None\n",
        "        self.W = None\n",
        "        self.D = None\n",
        "        self.F = None\n",
        "        self.activation = None"
      ],
      "execution_count": null,
      "outputs": []
    },
    {
      "cell_type": "code",
      "metadata": {
        "id": "My5vICJfFIGe"
      },
      "source": [
        "class FFNN:\n",
        "    def __init__(self, config, minibatch_size=100, learning_rate=0.1):\n",
        "        self.layers = []\n",
        "        self.nlayers = len(config)\n",
        "        self.minibatch_size = minibatch_size\n",
        "        self.learning_rate = learning_rate\n",
        "        \n",
        "        input_data = Layer()\n",
        "        # TODO: initialize the Z matrix with the a matrix containing only zeros\n",
        "        # its shape should be (minibatch_size, config[0])\n",
        "        input_data.Z = np.zeros(minibatch_size, config[0])\n",
        "        self.layers.append(input_data)\n",
        "                                        \n",
        "        for i in range(1, len(config)):\n",
        "            nnodes = config[i]\n",
        "            layer  = Layer()\n",
        "            nlines_prev, ncols_prev = self.layers[i - 1].Z.shape\n",
        "            # TODO: initilize the weight matrix W in the layer with a random normal distribution\n",
        "            # its shape should be (ncols_prev, nnodes)\n",
        "            layer.W = np.random.normal(0,1,ncols_prev,nnodes)\n",
        "            # TODO: initilize the matrix Z in the layer with a matrix containing only zeros\n",
        "            # its shape should be (nlines_prev, nnodes)\n",
        "            layer.Z = np.zeros(nlines_prev,nnodes)\n",
        "            # TODO: use the sigmoid activation function\n",
        "            layer.activation = sigmoid\n",
        "            self.layers.append(layer)\n",
        "        # TODO: Your last layer activation should be a softmax\n",
        "        self.layers[-1].activation = softmax\n",
        "        \n",
        "    def one_step_forward(self, signal: np.array, cur_layer: Layer)-> np.array:\n",
        "        # Compute the F and Z matrix for the current layer and return Z\n",
        "        cur_layer = cur_layer.F * cur_layer.Z\n",
        "        # TODO: Compute the dot product betzeen the signal and the current layer W matrix\n",
        "        S = signal.dot(cur_layer.W)\n",
        "        # TODO: Compute the F matrix of the current layer\n",
        "        cur_layer.F = None\n",
        "        # Compute the activation od the current layer\n",
        "        cur_layer.Z = None\n",
        "        return cur_layer.Z\n",
        "       \n",
        "    def forward_pass(self, input_data: np.array)-> np.array:\n",
        "        # TODO: perform the whole forward pass using the on_step_forward function\n",
        "        pass\n",
        "    \n",
        "    def one_step_backward(self, prev_layer: Layer, cur_layer: Layer)-> Layer:\n",
        "        # TODO: Compute the D matrix of the current layer using the previous layer and return the current layer\n",
        "        Di = None\n",
        "        cur_layer.D = Di\n",
        "        return cur_layer\n",
        "        \n",
        "    def backward_pass(self, D_out: np.array)-> None:\n",
        "        self.layers[-1].D = D_out.T\n",
        "        # TODO: Compute the D matrix for all the layers (excluding the first one which corresponds to the input itself)\n",
        "        # (you should only use self.layers[1:])\n",
        "        pass\n",
        "    \n",
        "    def update_weights(self, cur_layer: Layer, next_layer: Layer)-> Layer:\n",
        "        # TODO: Update the W matrix of the next_layer using the current_layer and the learning rate\n",
        "        # and return the next_layer\n",
        "        pass\n",
        "    \n",
        "    def update_all_weights(self)-> None:\n",
        "        # TODO: Update all W matrix using the update_weights function\n",
        "        pass\n",
        "        \n",
        "    def get_error(self, y_pred: np.array, y_batch: np.array)-> float:\n",
        "        # TODO: return the accuracy on the predictions\n",
        "        # the accuracy should be in the [0.0, 1.0] range\n",
        "        pass\n",
        "    \n",
        "    def get_test_error(self, X: np.array, y: np.array)-> float:\n",
        "        # TODO: Compute the accuracy using the get_error function\n",
        "        nbatch = X.shape[0]\n",
        "        error_sum = 0.0\n",
        "        for i in range(0, nbatch):\n",
        "            X_batch = X[i,:,:].reshape(self.minibatch_size, -1)\n",
        "            y_batch = y[i,:,:].reshape(self.minibatch_size, -1)           \n",
        "            # TODO: get y_pred using the forward pass\n",
        "            error_sum += None\n",
        "        return error_sum / nbatch\n",
        "            \n",
        "        \n",
        "    def train(self, nepoch, X_train, y_train, X_test, y_test)-> float:\n",
        "        X_train = X_train.reshape(-1, self.minibatch_size, 784)\n",
        "        y_train = y_train.reshape(-1, self.minibatch_size, 10)\n",
        "        \n",
        "        X_test = X_test.reshape(-1, self.minibatch_size, 784)\n",
        "        y_test = y_test.reshape(-1, self.minibatch_size, 10)\n",
        "        \n",
        "        # TODO: Get the number of batch based on X_train's shape\n",
        "        nbatch = None\n",
        "        error_test = 0.0\n",
        "        for epoch in range(0, nepoch):\n",
        "            error_sum_train = 0.0\n",
        "            for i in range(0, nbatch):\n",
        "                X_batch = X_train[i,:, :]\n",
        "                y_batch = y_train[i,:, :]\n",
        "        \n",
        "                y_pred = self.forward_pass(X_batch)\n",
        "                self.backward_pass(y_pred - y_batch)\n",
        "                self.update_all_weights()\n",
        "                error_sum_train += self.get_error(y_pred, y_batch)\n",
        "            error_test = self.get_test_error(X_test, y_test)\n",
        "            print(f\"Training accuracy: {error_sum_train / nbatch:.3f}, Test accuracy: {error_test:.3f}\")\n",
        "        return error_test"
      ],
      "execution_count": null,
      "outputs": []
    },
    {
      "cell_type": "markdown",
      "metadata": {
        "id": "RQNUotaHFIGh"
      },
      "source": [
        "## Training phase (12 pts)\n",
        "\n",
        "Now, it is time to train the model !!\n",
        "\n",
        "You can play with the different parameters (minibatch_size, nepoch, learning_rate and the number of hidden layers)\n",
        "\n",
        "It's on 12 points because there is a lot of functions to fill but also we want the training best training accuracy. \n",
        "\n",
        "To have all the point your neural network needs to have a Test accuracy > 92 % !! "
      ]
    },
    {
      "cell_type": "code",
      "metadata": {
        "id": "l0gXcuziFIGh"
      },
      "source": [
        "minibatch_size = 5 \n",
        "nepoch = 10\n",
        "learning_rate = 0.01\n",
        "\n",
        "ffnn = FFNN(config=[784, 3, 3, 10], minibatch_size=minibatch_size, learning_rate=learning_rate)"
      ],
      "execution_count": null,
      "outputs": []
    },
    {
      "cell_type": "code",
      "metadata": {
        "id": "kTp8PXjRFIGl"
      },
      "source": [
        "assert X_train.shape[0] % minibatch_size == 0\n",
        "assert X_test.shape[0] % minibatch_size == 0\n",
        "\n",
        "err = ffnn.train(nepoch, X_train, y_train, X_test, y_test)"
      ],
      "execution_count": null,
      "outputs": []
    },
    {
      "cell_type": "markdown",
      "metadata": {
        "id": "qG-3LzaSFIGn"
      },
      "source": [
        "## Error analysis (2 pts)\n",
        "\n",
        "Here we use a subset of the test data to try and find some miss classification.\n",
        "\n",
        "It will help us understand why the neural network failed sometimes to classify images. "
      ]
    },
    {
      "cell_type": "code",
      "metadata": {
        "id": "-2NwAdgbFIGo"
      },
      "source": [
        "nsample = 1000\n",
        "X_demo = X_test[:nsample,:]\n",
        "y_demo = ffnn.forward_pass(X_demo)\n",
        "y_true = y_test[:nsample,:]\n",
        "\n",
        "index_to_plot = 50 \n",
        "plot_one_image(X_demo, y_true, index_to_plot)\n",
        "\n",
        "# Compare to the prediction \n",
        "prediction = np.argmax(y_demo[index_to_plot,:])\n",
        "true_target = np.argmax(y_true[index_to_plot,:])\n",
        "\n",
        "# is it the same number ? "
      ],
      "execution_count": null,
      "outputs": []
    },
    {
      "cell_type": "code",
      "metadata": {
        "id": "lTASDR4BFIGq"
      },
      "source": [
        "# loop arround the demo test set and try to find a miss prediction\n",
        "for i in range(0, nsample):   \n",
        "    prediction = None # Todo\n",
        "    true_target = None # Todo\n",
        "    if prediction != true_target:\n",
        "        # TODO\n"
      ],
      "execution_count": null,
      "outputs": []
    },
    {
      "cell_type": "markdown",
      "metadata": {
        "id": "N4JkVjkbFIGs"
      },
      "source": [
        "## Open analysis\n",
        "\n",
        "in the cell below please explain you choice for all the parameters of your configuration: \n",
        "\n",
        "- minibatch_size\n",
        "- nepoch\n",
        "- config\n",
        "- learning_rate\n",
        "\n",
        "Also explain how the neural network behave when changing them ? "
      ]
    },
    {
      "cell_type": "markdown",
      "metadata": {
        "id": "RMF1-3UyFIGt"
      },
      "source": [
        "## Open analysis answer\n",
        "\n",
        "TODO"
      ]
    },
    {
      "cell_type": "code",
      "metadata": {
        "id": "9Z56GD1_FIGt"
      },
      "source": [
        ""
      ],
      "execution_count": null,
      "outputs": []
    }
  ]
}